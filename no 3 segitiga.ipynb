{
  "nbformat": 4,
  "nbformat_minor": 0,
  "metadata": {
    "colab": {
      "name": "Untitled0.ipynb",
      "version": "0.3.2",
      "provenance": []
    },
    "kernelspec": {
      "name": "python3",
      "display_name": "Python 3"
    }
  },
  "cells": [
    {
      "cell_type": "code",
      "metadata": {
        "id": "QXC5qX0N08OG",
        "colab_type": "code",
        "colab": {
          "base_uri": "https://localhost:8080/",
          "height": 145
        },
        "outputId": "ba8a2745-79c8-4f13-8cd4-c7f2e3682323"
      },
      "source": [
        "string = \"\"\n",
        "bar = 1\n",
        "\n",
        "x = int(input(\"Masukkan angka :\"))\n",
        "no = 1\n",
        "# Looping Baris\n",
        "while bar <= x:\n",
        "\tkol = bar\n",
        "\t# Looping Kolom\n",
        "\twhile kol > 0:\n",
        "\t\tstring = string + \" \" + str(no) + \" \"\n",
        "\t\tkol = kol - 1\n",
        "\n",
        "\tstring = string + \"\\n\"\n",
        "\tbar = bar + 1\n",
        "\tno = no+1\n",
        "print (string)"
      ],
      "execution_count": 5,
      "outputs": [
        {
          "output_type": "stream",
          "text": [
            "Masukkan angka :5\n",
            " 1 \n",
            " 2  2 \n",
            " 3  3  3 \n",
            " 4  4  4  4 \n",
            " 5  5  5  5  5 \n",
            "\n"
          ],
          "name": "stdout"
        }
      ]
    }
  ]
}